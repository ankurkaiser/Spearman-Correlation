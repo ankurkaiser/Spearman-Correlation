{
  "nbformat": 4,
  "nbformat_minor": 0,
  "metadata": {
    "colab": {
      "name": "SpearmanCorrelation.ipynb",
      "provenance": [],
      "authorship_tag": "ABX9TyMgci28oVOcqsQtDOJXuO1l",
      "include_colab_link": true
    },
    "kernelspec": {
      "name": "python3",
      "display_name": "Python 3"
    }
  },
  "cells": [
    {
      "cell_type": "markdown",
      "metadata": {
        "id": "view-in-github",
        "colab_type": "text"
      },
      "source": [
        "<a href=\"https://colab.research.google.com/github/ankurkaiser/Spearman-Correlation/blob/main/SpearmanCorrelation.ipynb\" target=\"_parent\"><img src=\"https://colab.research.google.com/assets/colab-badge.svg\" alt=\"Open In Colab\"/></a>"
      ]
    },
    {
      "cell_type": "code",
      "metadata": {
        "id": "90i_vU2S3t_T"
      },
      "source": [
        "from numpy.random import seed\n",
        "from numpy.random import randn\n",
        "from scipy.stats import pearsonr"
      ],
      "execution_count": 2,
      "outputs": []
    },
    {
      "cell_type": "code",
      "metadata": {
        "id": "Iw_1Q-8v4OIP",
        "outputId": "0343e323-a33d-411f-fed9-f490e114f120",
        "colab": {
          "base_uri": "https://localhost:8080/"
        }
      },
      "source": [
        "seed(1)\n",
        "data1=20*randn(1000)+100\n",
        "data2=data1+(10*randn(1000)+50)\n",
        "\n",
        "corr,p=pearsonr(data1,data2)\n",
        "print(corr)"
      ],
      "execution_count": 6,
      "outputs": [
        {
          "output_type": "stream",
          "text": [
            "0.8876119085795309\n"
          ],
          "name": "stdout"
        }
      ]
    },
    {
      "cell_type": "code",
      "metadata": {
        "id": "BHS1QsVn4zU5",
        "outputId": "c3c493b0-a898-4232-cfb8-b44e25d9864f",
        "colab": {
          "base_uri": "https://localhost:8080/"
        }
      },
      "source": [
        "data3 = randn(100)\n",
        "print(data3)"
      ],
      "execution_count": 7,
      "outputs": [
        {
          "output_type": "stream",
          "text": [
            "[ 0.48951662  0.23879586 -0.44811181 -0.610795   -2.02994507  0.60794659\n",
            " -0.35410888  0.15258149  0.50127485 -0.78640277  1.01699569  0.11311058\n",
            "  1.49699525  0.16893767  0.3186247  -0.27337714  1.47641399 -2.10349278\n",
            " -0.53283196 -0.30505399 -1.53042074 -0.79470265 -2.17212271  0.19038724\n",
            " -1.40522754  0.36986047 -0.2617817  -0.83271351 -1.55378261 -0.68284784\n",
            "  0.31062382 -0.12544719  0.6662438  -0.78833027  1.60599352 -0.23795342\n",
            " -0.84519543  1.31015923  1.35756648 -0.09016932 -0.48430212  0.91007464\n",
            " -0.89413697  0.93519154 -1.38718052 -0.08339327  0.01175551  1.20809946\n",
            " -1.82921963  0.23443672 -0.12071047  0.00290829 -0.88410555 -1.30189483\n",
            " -0.46313706 -0.24166378  1.47518348  0.11138164 -0.00427625  0.69834629\n",
            " -1.61185464  0.72256645  0.91537614  0.90714387 -0.33299406 -1.23525\n",
            " -0.98492851  0.24745387  0.53676485  1.27654978  1.52143405  0.87124828\n",
            "  0.0339288   0.26491996 -0.23531237  1.05486845  0.59427155  0.21585967\n",
            " -1.25560054  1.04666138 -1.52688637  1.23178219  0.9846295  -1.58706882\n",
            " -0.04846434 -1.24139426 -0.14461932  0.55516997 -0.1366381  -1.36386802\n",
            "  0.26082728  0.25948771 -0.02723481 -1.04513897 -0.34978166  0.26852717\n",
            " -0.15504982  2.11262212  0.25607944 -0.20676133]\n"
          ],
          "name": "stdout"
        }
      ]
    }
  ]
}